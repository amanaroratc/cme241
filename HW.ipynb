{
 "cells": [
  {
   "cell_type": "code",
   "execution_count": 2,
   "metadata": {},
   "outputs": [],
   "source": [
    "from collections import defaultdict\n",
    "from scipy.linalg import eig "
   ]
  },
  {
   "cell_type": "markdown",
   "metadata": {},
   "source": [
    "## Markov Processes:\n",
    "\n",
    "A set of states $S$ and a state transition probability matrix $P$ s.t. the coefficients are $\\mathbb{P}[X_{n+1} \\mid X_n] = \\mathbb{P}[X_{n+1} \\mid X_1, \\dots, X_n]$"
   ]
  },
  {
   "cell_type": "code",
   "execution_count": 3,
   "metadata": {},
   "outputs": [],
   "source": [
    "class MP:\n",
    "    def __init__(self, P):\n",
    "        self.transition_matrix = P\n",
    "    \n",
    "    def stationary_distribution(self):\n",
    "        S, U = eig(self.transition_matrix.T)\n",
    "        stationary = np.array(U[:, np.where(np.abs(S - 1.) < 1e-8)[0][0]].flat)\n",
    "        stationary /= np.sum(stationary)\n",
    "        return stationary"
   ]
  },
  {
   "cell_type": "markdown",
   "metadata": {},
   "source": [
    "## Markov Reward Processes\n",
    "\n",
    "A set of states $S$, a state transition probability matrix $P$, a reward function $R$ s.t. $R(s) = \\mathbb{E}[R_{n+1} \\mid S_n = s]$, and a discount factor $\\gamma \\in [0, 1]$\n",
    "\n",
    "The state value function $v(s) = \\mathbb{E}[G_t \\mid S_t = s]$ of an MRP is the expected return starting from state $s$, where $G_t = \\sum_{k=0}^\\infty \\gamma^k R_{t+k+1}$ is the total discounted reward from time $t$"
   ]
  },
  {
   "cell_type": "code",
   "execution_count": null,
   "metadata": {},
   "outputs": [],
   "source": [
    "class MRP(MP):\n",
    "    def __init__(self, P, R, gamma):\n",
    "        MP.__init__(self, P)\n",
    "        self.reward = R\n",
    "        self.gamma = gamma"
   ]
  },
  {
   "cell_type": "code",
   "execution_count": null,
   "metadata": {},
   "outputs": [],
   "source": [
    "class MRP_2(MP):\n",
    "    def __init__(self, P, R_m, gamma):\n",
    "        super().__init__(self, P)\n",
    "        self.transition_reward = R_m\n",
    "        self.gamma = gamma\n",
    "        self.state_number = self.transition_matrix.shape[0]\n",
    "    \n",
    "    def get_reward_per_state(self):\n",
    "        self.reward = []\n",
    "        for s in range(self.state_number):\n",
    "            self.reward.append(sum([np.array(self.transition_matrix)[s][s_p]*np.array(self.transition_reward)[s][s_p] \\\n",
    "                                    for s_p in range(self.state_number)]))"
   ]
  },
  {
   "cell_type": "markdown",
   "metadata": {},
   "source": [
    "Bellman Equation for MRP:\n",
    "$$ v(s) = \\mathbb{E}[R_{t+1} + \\gamma v(S_{t+1}) \\mid S_t = s] = R(s) + \\gamma \\sum_{s' \\in S} P(s, s') v_\\pi(s')$$\n",
    "\n",
    "Matrix form of the Bellman Equation for MRP:\n",
    "$$ v = R + \\gamma P v$$ "
   ]
  },
  {
   "cell_type": "markdown",
   "metadata": {},
   "source": [
    "# Markov Decision Processes\n",
    "\n",
    "A set of states $S$, a state transition probability matrix $P$, a reward function $R$ s.t. $R(s) = \\mathbb{E}[R_{n+1} \\mid S_n = s]$, a discount factor $\\gamma \\in [0, 1]$, and a finite set of actions $A$. MDPs are similar to MRPs, but with actions.\n",
    "\n",
    "A policy $\\pi$ is a probability distribution of the actions given a state: $\\pi(a\\mid s) = \\mathbb{P}[A_t = a \\mid S_t = s]$\n",
    "\n",
    "A value function $v_\\pi$ for a given policy $\\pi$ is the expected return from a state $s$ that is obtained by following the policy $\\pi$: $v_\\pi(s) = \\mathbb{E}_\\pi(G_t \\mid S_t = s)$"
   ]
  },
  {
   "cell_type": "code",
   "execution_count": 1,
   "metadata": {},
   "outputs": [],
   "source": [
    "class MDP():\n",
    "    def __init__(self, gamma, P_list=None, R_list=None, mrp_list=None):\n",
    "        self.gamma = gamma\n",
    "        if mrp_list != None:\n",
    "            self.mrp_list = mrp_list\n",
    "        else:\n",
    "            self.mrp_list = [MRP(P_list[i], R_list[i], gamma) for i in range(len(P_list))]\n",
    "    \n",
    "    def get_mrp(self, policy):\n",
    "        P = np.zeros(self.mrp_list[0].state_number, self.mrp_list[0].state_number)\n",
    "        R = np.zeros(self.mrp_list[0].state_number)\n",
    "        for s in range(self.mrp_list[0].state_number):\n",
    "            R[s] = sum(policy.proba_matrix[a, s] * MRP[a].reward[s])\n",
    "            for s_p in range(self.mrp_list[0].state_number):\n",
    "                P[s, s_p] = sum([policy.proba_matrix[a, s] * MRP[a].transition_matrix[s, s_p] for a in range(len(self.mrp_list))])\n",
    "        return MRP(P, R, self.gamma)\n",
    "        \n",
    "class Policy():\n",
    "    def __init__(self, P):\n",
    "        self.proba_matrix = P"
   ]
  },
  {
   "cell_type": "code",
   "execution_count": 2,
   "metadata": {},
   "outputs": [],
   "source": [
    "class MDP_2():\n",
    "    def __init__(self, P_list, R_list, gamma):\n",
    "        self.gamma = gamma\n",
    "        self.mrp2_list = [MRP_2(P_list[i], R_list[i], gamma) for i in range(len(P_list))]\n",
    "    \n",
    "    def get_reward_per_state(self):\n",
    "        return MDP(self.gamma, None, None, mrp_list = [mrp_2.get_reward_per_state() for mrp_2 in mrp2_list])"
   ]
  },
  {
   "cell_type": "markdown",
   "metadata": {},
   "source": [
    "Bellman Expectation Equations: \n",
    "$$v_\\pi(s) = \\sum_{a\\in A} \\pi(a\\mid s) q_\\pi(s,a) $$\n",
    "$$q_\\pi(s,a) = R(s, a) + \\gamma \\sum_{s' \\in S} P(s, s', a) v_\\pi(s') $$\n",
    "$$v_\\pi(s) = \\sum_{a\\in A} \\pi(a\\mid s) [R(s, a) + \\gamma \\sum_{s' \\in S} v_\\pi(s')] $$\n",
    "$$q_\\pi(s,a) = R(s, a) + \\gamma \\sum_{s' \\in S} P(s, s', a) [\\sum_{a'\\in A} \\pi(a'\\mid s') q_\\pi(s',a')] $$\n",
    "\n",
    "Matrix Form of the Bellman Expectation Equation:\n",
    "$$v_\\pi = R^\\pi + \\gamma R^\\pi v_\\pi $$\n",
    "\n",
    "Bellman Optimality Equations: \n",
    "$$v_*(s) = \\max_a{q_*(s,a)} $$\n",
    "$$q_*(s,a) = R(s, a)  + \\gamma \\sum_{s' \\in S} P(s, s', a) v_*(s') $$\n",
    "$$v_*(s) = \\max_a [R(s, a)  + \\gamma \\sum_{s' \\in S} P(s, s', a) v_*(s')] $$\n",
    "$$q_*(s,a) = R(s, a)  + \\gamma \\sum_{s' \\in S} P(s, s', a) \\max_{a'}{q_*(s',a')} $$"
   ]
  },
  {
   "cell_type": "code",
   "execution_count": null,
   "metadata": {},
   "outputs": [],
   "source": []
  },
  {
   "cell_type": "code",
   "execution_count": null,
   "metadata": {},
   "outputs": [],
   "source": []
  },
  {
   "cell_type": "markdown",
   "metadata": {},
   "source": [
    "# CARA"
   ]
  },
  {
   "cell_type": "markdown",
   "metadata": {},
   "source": [
    "Absolute Risk-Aversion $A(x) = \\frac{-U^{''}(x)}{U^{'}(x)} = a$ \n",
    "\n",
    "$U(x) = −e^{−ax}$\n",
    "\n",
    "$E[U(x)] = \n",
    "\\begin{cases}\n",
    "\\mu & \\text{if } a = 0 \\\\\n",
    "e^{(-a \\mu + a^2 \\sigma^2 / 2)/a} & \\text{else}\n",
    "\\end{cases}$ \n",
    "\n",
    "\n",
    "$x_{CE} = µ −aσ^2/2$\n",
    "\n",
    "Absolute Risk Premium $π_A = µ − x_{CE} =aσ^2/2$\n",
    "\n",
    "Relative Risk Premium $π_R = π_A/\\mathbb{E}(x)$"
   ]
  },
  {
   "cell_type": "markdown",
   "metadata": {},
   "source": [
    "# CRRA"
   ]
  },
  {
   "cell_type": "markdown",
   "metadata": {},
   "source": [
    "Relative Risk Aversion $R(x) = \\frac{-U^{''}(x)x}{U^{'}(x)} = \\gamma$\n",
    "\n",
    "$U(x) = \\frac{x^{1-\\gamma}}{1-\\gamma}$\n",
    "\n",
    "$E[U(x)] = \n",
    "\\begin{cases}\n",
    "\\mu & \\text{if } \\gamma = 1 \\\\\n",
    "\\frac{e^{\\mu(1-\\gamma) + \\sigma^2 (1-\\gamma)^2 / 2}}{1 - \\gamma} & \\text{else}\n",
    "\\end{cases}$ \n",
    "\n",
    "$x_{CE} = e^{\\mu + \\sigma^2 (1-\\gamma)/2}$\n",
    "\n",
    "Absolute Risk Premium $π_A = π_R \\times \\mathbb{E}(x)$\n",
    "\n",
    "Relative Risk Premium $\\pi_R = 1 - e^{-\\sigma^2\\gamma / 2}$"
   ]
  },
  {
   "cell_type": "markdown",
   "metadata": {},
   "source": [
    "# Merton Portfolio Problem"
   ]
  },
  {
   "cell_type": "markdown",
   "metadata": {},
   "source": [
    "Optimal fraction of risky asset in CARA model : $π^∗ = \\frac{µ − r}{a σ^2}$\n",
    "\n",
    "Optimal fraction of risky asset in CRRA model : $π^∗ = \\frac{µ − r}{\\gamma σ^2}$"
   ]
  },
  {
   "cell_type": "markdown",
   "metadata": {},
   "source": [
    "Merton's portfolio problem can be formulated as the following MDP:\n",
    "\n",
    "- S is [Current Time, Current Holdings, Current Prices]\n",
    "- A is [Allocation Quantities, Consumption Quantity]\n",
    "- R is Utility of Consumption less Transaction Costs\n",
    "- T governed by risky asset movements\n",
    "- $\\gamma$ discount factor "
   ]
  },
  {
   "cell_type": "code",
   "execution_count": null,
   "metadata": {},
   "outputs": [],
   "source": []
  },
  {
   "cell_type": "code",
   "execution_count": null,
   "metadata": {},
   "outputs": [],
   "source": []
  },
  {
   "cell_type": "code",
   "execution_count": null,
   "metadata": {},
   "outputs": [],
   "source": []
  },
  {
   "cell_type": "markdown",
   "metadata": {},
   "source": [
    "worked with mdopham and csaad"
   ]
  }
 ],
 "metadata": {
  "kernelspec": {
   "display_name": "Python 3",
   "language": "python",
   "name": "python3"
  },
  "language_info": {
   "codemirror_mode": {
    "name": "ipython",
    "version": 3
   },
   "file_extension": ".py",
   "mimetype": "text/x-python",
   "name": "python",
   "nbconvert_exporter": "python",
   "pygments_lexer": "ipython3",
   "version": "3.6.5"
  }
 },
 "nbformat": 4,
 "nbformat_minor": 2
}
