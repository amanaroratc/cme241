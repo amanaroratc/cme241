{
 "cells": [
  {
   "cell_type": "code",
   "execution_count": 1,
   "metadata": {},
   "outputs": [],
   "source": [
    "from lib.util import *\n",
    "from lib.mp import *"
   ]
  },
  {
   "cell_type": "markdown",
   "metadata": {},
   "source": [
    "# Markov Processes\n",
    "\n",
    "A set of states $S$ and a state transition probability matrix $P$ s.t. the coefficients are $\\mathbb{P}[X_{n+1} \\mid X_n] = \\mathbb{P}[X_{n+1} \\mid X_1, \\dots, X_n]$"
   ]
  },
  {
   "cell_type": "code",
   "execution_count": 2,
   "metadata": {},
   "outputs": [],
   "source": [
    "n = 5"
   ]
  },
  {
   "cell_type": "code",
   "execution_count": 3,
   "metadata": {},
   "outputs": [
    {
     "name": "stdout",
     "output_type": "stream",
     "text": [
      "[0.17808118 0.1719813  0.29694152 0.18273402 0.17026198]\n"
     ]
    }
   ],
   "source": [
    "P = generate_stochastic_matrix(n)\n",
    "mp = MP(P)\n",
    "\n",
    "print(mp.stationary_distribution())"
   ]
  },
  {
   "cell_type": "markdown",
   "metadata": {},
   "source": [
    "# Markov Reward Processes\n",
    "\n",
    "A set of states $S$, a state transition probability matrix $P$, a reward function $R$ s.t. $R(s) = \\mathbb{E}[R_{n+1} \\mid S_n = s]$, and a discount factor $\\gamma \\in [0, 1]$\n",
    "\n",
    "The state value function $v(s) = \\mathbb{E}[G_t \\mid S_t = s]$ of an MRP is the expected return starting from state $s$, where $G_t = \\sum_{k=0}^\\infty \\gamma^k R_{t+k+1}$ is the total discounted reward from time $t$"
   ]
  },
  {
   "cell_type": "markdown",
   "metadata": {},
   "source": [
    "Bellman Equation for MRP:\n",
    "$$ v(s) = \\mathbb{E}[R_{t+1} + \\gamma v(S_{t+1}) \\mid S_t = s] = R(s) + \\gamma \\sum_{s' \\in S} P(s, s') v_\\pi(s')$$\n",
    "\n",
    "Matrix form of the Bellman Equation for MRP:\n",
    "$$ v = R + \\gamma P v$$ "
   ]
  },
  {
   "cell_type": "code",
   "execution_count": 4,
   "metadata": {},
   "outputs": [],
   "source": [
    "from lib.mrp import *"
   ]
  },
  {
   "cell_type": "code",
   "execution_count": 5,
   "metadata": {},
   "outputs": [],
   "source": [
    "n = 5\n",
    "gamma = 0.95"
   ]
  },
  {
   "cell_type": "code",
   "execution_count": 6,
   "metadata": {},
   "outputs": [
    {
     "name": "stdout",
     "output_type": "stream",
     "text": [
      "[9.72162566 8.92772358 9.85245503 9.65662999 9.30640476]\n"
     ]
    }
   ],
   "source": [
    "P = generate_stochastic_matrix(n)\n",
    "R = generate_reward_vector(n)\n",
    "mrp = MRP(P, R, gamma)\n",
    "\n",
    "print(mrp.get_value_function())"
   ]
  },
  {
   "cell_type": "code",
   "execution_count": 7,
   "metadata": {},
   "outputs": [
    {
     "name": "stdout",
     "output_type": "stream",
     "text": [
      "[0.352295509950974, 0.3733631543658672, 0.7887441491738059, 0.5747341026534833, 0.42679737159807213]\n"
     ]
    }
   ],
   "source": [
    "P = generate_stochastic_matrix(n)\n",
    "R = generate_reward_matrix(n)\n",
    "mrp = MRP_2(P, R, gamma)\n",
    "\n",
    "print(mrp.get_reward_per_state().reward)"
   ]
  }
 ],
 "metadata": {
  "kernelspec": {
   "display_name": "Python 3",
   "language": "python",
   "name": "python3"
  },
  "language_info": {
   "codemirror_mode": {
    "name": "ipython",
    "version": 3
   },
   "file_extension": ".py",
   "mimetype": "text/x-python",
   "name": "python",
   "nbconvert_exporter": "python",
   "pygments_lexer": "ipython3",
   "version": "3.6.4"
  }
 },
 "nbformat": 4,
 "nbformat_minor": 2
}
