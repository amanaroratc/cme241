{
 "cells": [
  {
   "cell_type": "code",
   "execution_count": 2,
   "metadata": {},
   "outputs": [],
   "source": [
    "from collections import defaultdict\n",
    "from scipy.linalg import eig "
   ]
  },
  {
   "cell_type": "markdown",
   "metadata": {},
   "source": [
    "## Markov Processes:\n",
    "\n",
    "A set of states $S$ and a state transition probability matrix $P$ s.t. the coefficients are $\\mathbb{P}[X_{n+1} \\mid X_n] = \\mathbb{P}[X_{n+1} \\mid X_1, \\dots, X_n]$"
   ]
  },
  {
   "cell_type": "code",
   "execution_count": 3,
   "metadata": {},
   "outputs": [],
   "source": [
    "class MP:\n",
    "    def __init__(self, P):\n",
    "        self.transition_matrix = P\n",
    "    \n",
    "    def stationary_distribution(self):\n",
    "        S, U = eig(self.transition_matrix.T)\n",
    "        stationary = np.array(U[:, np.where(np.abs(S - 1.) < 1e-8)[0][0]].flat)\n",
    "        stationary /= np.sum(stationary)\n",
    "        return stationary"
   ]
  },
  {
   "cell_type": "markdown",
   "metadata": {},
   "source": [
    "## Markov Reward Processes\n",
    "\n",
    "A set of states $S$, a state transition probability matrix $P$, a reward function $R$ s.t. $R(s) = \\mathbb{E}[R_{n+1} \\mid S_n = s]$, and a discount factor $\\gamma \\in [0, 1]$\n",
    "\n",
    "The state value function $v(s) = \\mathbb{E}[G_t \\mid S_t = s]$ of an MRP is the expected return starting from state $s$, where $G_t = \\sum_{k=0}^\\infty \\gamma^k R_{t+k+1}$ is the total discounted reward from time $t$"
   ]
  },
  {
   "cell_type": "code",
   "execution_count": null,
   "metadata": {},
   "outputs": [],
   "source": [
    "class MRP(MP):\n",
    "    def __init__(self, P, R, gamma):\n",
    "        MP.__init__(self, P)\n",
    "        self.reward = R\n",
    "        self.gamma = gamma"
   ]
  },
  {
   "cell_type": "code",
   "execution_count": null,
   "metadata": {},
   "outputs": [],
   "source": [
    "class MRP_2(MP):\n",
    "    def __init__(self, P, R_m, gamma):\n",
    "        super().__init__(self, P)\n",
    "        self.transition_reward = R_m\n",
    "        self.gamma = gamma\n",
    "        self.state_number = self.transition_matrix.shape[0]\n",
    "    \n",
    "    def get_reward_per_state(self):\n",
    "        self.reward = []\n",
    "        for s in range(self.state_number):\n",
    "            self.reward.append(sum([np.array(self.transition_matrix)[s][s_p]*np.array(self.transition_reward)[s][s_p] \\\n",
    "                                    for s_p in range(self.state_number)]))"
   ]
  },
  {
   "cell_type": "markdown",
   "metadata": {},
   "source": [
    "worked with mdopham"
   ]
  }
 ],
 "metadata": {
  "kernelspec": {
   "display_name": "Python 3",
   "language": "python",
   "name": "python3"
  },
  "language_info": {
   "codemirror_mode": {
    "name": "ipython",
    "version": 3
   },
   "file_extension": ".py",
   "mimetype": "text/x-python",
   "name": "python",
   "nbconvert_exporter": "python",
   "pygments_lexer": "ipython3",
   "version": "3.6.4"
  }
 },
 "nbformat": 4,
 "nbformat_minor": 2
}
